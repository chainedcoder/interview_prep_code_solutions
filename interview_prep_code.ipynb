{
 "cells": [
  {
   "cell_type": "code",
   "execution_count": 3,
   "metadata": {},
   "outputs": [],
   "source": [
    "def get_permutation(nums):\n",
    "    if len(nums) <= 1:\n",
    "        return set(nums)\n",
    "\n",
    "    nums_except_last = nums[:-1]\n",
    "    last_num = nums[-1]\n",
    "    partial_perms = get_permutation(nums_except_last)\n",
    "\n",
    "    permutations = set()\n",
    "    for each_perm in partial_perms:\n",
    "        for i in range(len(nums)):\n",
    "            cur_permutation = (each_perm[:i] + last_num + each_perm[i:])\n",
    "            permutations.add(cur_permutation)\n",
    "    return permutations\n"
   ]
  },
  {
   "cell_type": "code",
   "execution_count": 4,
   "metadata": {},
   "outputs": [
    {
     "name": "stdout",
     "output_type": "stream",
     "text": [
      "{'211', '112', '121'}\n"
     ]
    }
   ],
   "source": [
    "answer = get_permutation(\"112\")\n",
    "print(answer)\n"
   ]
  },
  {
   "cell_type": "markdown",
   "metadata": {},
   "source": [
    "## Average of subarray of size K\n",
    "\n",
    "Given an array, find the average of all contiguous subarrays of size ‘K’ in it.\n"
   ]
  },
  {
   "cell_type": "code",
   "execution_count": 5,
   "metadata": {},
   "outputs": [
    {
     "name": "stdout",
     "output_type": "stream",
     "text": [
      "[2.2, 2.8, 2.4, 3.6, 2.8]\n"
     ]
    }
   ],
   "source": [
    "def ave_contiguous_subarray_k(arr, K):\n",
    "    ave_arr = []\n",
    "    cur_sum = 0\n",
    "    for i in range(len(arr)):\n",
    "        cur_sum += arr[i]\n",
    "        kth_i = K-1\n",
    "        if i >= kth_i:\n",
    "            ave_arr.append(cur_sum/K)\n",
    "            cur_sum -= arr[i-kth_i]\n",
    "    return ave_arr\n",
    "\n",
    "\n",
    "print(ave_contiguous_subarray_k([1, 3, 2, 6, -1, 4, 1, 8, 2], 5))\n"
   ]
  },
  {
   "cell_type": "markdown",
   "metadata": {},
   "source": [
    "## Maximum Sum Subarray of Size K\n",
    "\n",
    "Given an array of positive numbers and a positive number ‘k’, find the maximum sum of any contiguous subarray of size ‘k’.\n"
   ]
  },
  {
   "cell_type": "code",
   "execution_count": 8,
   "metadata": {},
   "outputs": [
    {
     "name": "stdout",
     "output_type": "stream",
     "text": [
      "18\n"
     ]
    }
   ],
   "source": [
    "def max_sum_subarray_k(arr, K):\n",
    "    max_sum = -float(\"inf\")\n",
    "    cur_sum = 0\n",
    "    for i in range(len(arr)):\n",
    "        cur_sum += arr[i]\n",
    "        kth_i = K-1\n",
    "        if i >= kth_i:\n",
    "            max_sum = max(max_sum, cur_sum)\n",
    "            cur_sum -= arr[i-kth_i]\n",
    "    return max_sum\n",
    "\n",
    "\n",
    "print(max_sum_subarray_k([1, 3, 2, 6, -1, 4, 1, 8, 2], 5))\n"
   ]
  },
  {
   "cell_type": "markdown",
   "metadata": {},
   "source": [
    "## Fruits into Baskets\n",
    "\n",
    "Given an array of characters where each character represents a fruit tree, you are given two baskets and your goal is to put maximum number of fruits in each basket. The only restriction is that each basket can have only one type of fruit.\n",
    "\n",
    "You can start with any tree, but once you have started you can’t skip a tree. You will pick one fruit from each tree until you cannot, i.e., you will stop when you have to pick from a third fruit type.\n",
    "\n",
    "Write a function to return the maximum number of fruits in both the baskets.\n",
    "\n",
    "Example 1:\n",
    "```\n",
    "Input: Fruit=['A', 'B', 'C', 'A', 'C']`\n",
    "Output: 3\n",
    "Explanation: We can put 2 'C' in one basket and one 'A' in the other from the subarray `['C', 'A', 'C']`\n",
    "```\n",
    "Example 2:\n",
    "```\n",
    "Input: Fruit=['A', 'B', 'C', 'B', 'B', 'C']\n",
    "Output: 5\n",
    "Explanation: We can put 3 'B' in one basket and two 'C' in the other basket.\n",
    "This can be done if we start with the second letter: ['B', 'C', 'B', 'B', 'C']\n",
    "```\n"
   ]
  },
  {
   "cell_type": "code",
   "execution_count": 38,
   "metadata": {},
   "outputs": [
    {
     "name": "stdout",
     "output_type": "stream",
     "text": [
      "5\n"
     ]
    }
   ],
   "source": [
    "def fruits_in_basket(fruits):\n",
    "    basket = {}\n",
    "    start = 0\n",
    "    max_fruits = 0\n",
    "    \n",
    "    for i in range(len(fruits)):\n",
    "        fruit = fruits[i]\n",
    "        if fruit not in basket:\n",
    "            basket[fruit] = 0\n",
    "        basket[fruit] += 1\n",
    "    \n",
    "        while len(basket) > 2:\n",
    "            first_fruit = fruits[start]\n",
    "            basket[first_fruit] -= 1\n",
    "            if basket[first_fruit] == 0:\n",
    "                basket.pop(first_fruit)\n",
    "            start += 1\n",
    "        max_fruits = max(i+1-start,max_fruits)\n",
    "    return max_fruits\n",
    "\n",
    "print(fruits_in_basket(['A', 'B', 'C', 'B', 'B', 'C']))\n"
   ]
  },
  {
   "cell_type": "markdown",
   "metadata": {},
   "source": [
    "## No-repeat Substring (hard)\n",
    "Given a string, find the length of the longest substring which has no repeating characters."
   ]
  },
  {
   "cell_type": "code",
   "execution_count": 45,
   "metadata": {},
   "outputs": [
    {
     "name": "stdout",
     "output_type": "stream",
     "text": [
      "3\n"
     ]
    }
   ],
   "source": [
    "def longest_no_repeat_substring(str):\n",
    "    max_len = 0\n",
    "    char_freq = {}\n",
    "    start = 0\n",
    "\n",
    "    for i in range(len(str)):\n",
    "        char = str[i]\n",
    "        if char not in char_freq:\n",
    "            char_freq[char] = 0\n",
    "        char_freq[char] += 1\n",
    "\n",
    "        while char_freq[char] > 1:\n",
    "            first_char = str[start]\n",
    "            char_freq[first_char] -= 1\n",
    "            if char_freq[char] == 0:\n",
    "                char_freq.pop(char)\n",
    "            start += 1\n",
    "        max_len = max(max_len, i+1-start)\n",
    "    return max_len\n",
    "\n",
    "print(longest_no_repeat_substring(\"abebce\"))"
   ]
  },
  {
   "cell_type": "markdown",
   "metadata": {},
   "source": [
    "## Longest Substring with K Distinct Characters (medium)\n",
    "Given a string, find the length of the longest substring in it with no more than K distinct characters.\n",
    "\n",
    "Example 1:\n",
    "\n",
    "```\n",
    "Input: String=\"araaci\", K=2\n",
    "Output: 4\n",
    "Explanation: The longest substring with no more than '2' distinct characters is \"araa\".\n",
    "```\n",
    "Example 2:\n",
    "```\n",
    "Input: String=\"araaci\", K=1\n",
    "Output: 2\n",
    "Explanation: The longest substring with no more than '1' distinct characters is \"aa\".\n",
    "```\n",
    "Example 3:\n",
    "```\n",
    "Input: String=\"cbbebi\", K=3\n",
    "Output: 5\n",
    "Explanation: The longest substrings with no more than '3' distinct characters are \"cbbeb\" & \"bbebi\".\n",
    "```"
   ]
  },
  {
   "cell_type": "code",
   "execution_count": 3,
   "metadata": {},
   "outputs": [
    {
     "name": "stdout",
     "output_type": "stream",
     "text": [
      "4\n",
      "2\n",
      "5\n"
     ]
    }
   ],
   "source": [
    "def find_longest_Substring_k_distinct(str, k):\n",
    "    # Walk through string keep count of char in dictionary\n",
    "    # if char freq exceeds k move the start of string right\n",
    "    # keep and update max length\n",
    "    max_len = 0\n",
    "    char_freq = {}\n",
    "    start = 0\n",
    "    \n",
    "    for i in range(len(str)):\n",
    "        char = str[i]\n",
    "        if char not in char_freq:\n",
    "            char_freq[char] = 0\n",
    "        char_freq[char] += 1\n",
    "\n",
    "        while len(char_freq) > k:\n",
    "            first_char = str[start]\n",
    "            char_freq[first_char] -= 1\n",
    "            if char_freq[first_char] == 0:\n",
    "                char_freq.pop(first_char)\n",
    "            start += 1\n",
    "        max_len = max(max_len, i+1-start)\n",
    "    return max_len\n",
    "\n",
    "print(find_longest_Substring_k_distinct(\"araaci\", 2))\n",
    "print(find_longest_Substring_k_distinct(\"araaci\", 1))\n",
    "print(find_longest_Substring_k_distinct(\"cbbebi\", 3))\n",
    "\n"
   ]
  },
  {
   "cell_type": "markdown",
   "metadata": {},
   "source": [
    "## Longest Substring with Same Letters after Replacement (hard)\n",
    "Given a string with lowercase letters only, if you are allowed to replace no more than ‘k’ letters with any letter, find the length of the longest substring having the same letters after replacement.\n",
    "\n",
    "Example 1:\n",
    "```\n",
    "Input: String=\"aabccbb\", k=2\n",
    "Output: 5\n",
    "Explanation: Replace the two 'c' with 'b' to have a longest repeating substring \"bbbbb\".\n",
    "```\n",
    "Example 2:\n",
    "```\n",
    "Input: String=\"abbcb\", k=1\n",
    "Output: 4\n",
    "Explanation: Replace the 'c' with 'b' to have a longest repeating substring \"bbbb\".\n",
    "```\n",
    "Example 3:\n",
    "```\n",
    "Input: String=\"abccde\", k=1\n",
    "Output: 3\n",
    "Explanation: Replace the 'b' or 'd' with 'c' to have the longest repeating substring \"ccc\".\n",
    "```\n"
   ]
  },
  {
   "cell_type": "code",
   "execution_count": 6,
   "metadata": {},
   "outputs": [
    {
     "name": "stdout",
     "output_type": "stream",
     "text": [
      "5\n",
      "4\n",
      "3\n"
     ]
    }
   ],
   "source": [
    "def longest_substring_k_replacement(str, k):\n",
    "    char_freq = {}\n",
    "    longest_sub = 0\n",
    "    start = 0\n",
    "    max_repeat = 0\n",
    "\n",
    "    for i in range(len(str)):\n",
    "        char = str[i]\n",
    "        if char not in char_freq:\n",
    "            char_freq[char] = 0\n",
    "        char_freq[char] += 1\n",
    "        max_repeat = max(max_repeat, char_freq[char])\n",
    "\n",
    "        while ((i+1-start)-max_repeat) > k:\n",
    "            first_char = str[start]\n",
    "            char_freq[first_char] -= 1\n",
    "            start += 1\n",
    "        longest_sub = max(longest_sub, i+1-start)\n",
    "    return longest_sub\n",
    "\n",
    "print(longest_substring_k_replacement(\"aabccbb\", 2))\n",
    "print(longest_substring_k_replacement(\"abbcb\", 1))\n",
    "print(longest_substring_k_replacement(\"abccde\", 1))\n",
    "\n"
   ]
  },
  {
   "cell_type": "markdown",
   "metadata": {},
   "source": [
    "### Longest Subarray with Ones after Replacement (hard)\n",
    "Given an array containing 0s and 1s, if you are allowed to replace no more than ‘k’ 0s with 1s, find the length of the longest contiguous subarray having all 1s.\n",
    "\n",
    "Example 1:\n",
    "```\n",
    "Input: Array=[0, 1, 1, 0, 0, 0, 1, 1, 0, 1, 1], k=2\n",
    "Output: 6\n",
    "Explanation: Replace the '0' at index 5 and 8 to have the longest contiguous subarray of 1s having length 6.\n",
    "```\n",
    "Example 2:\n",
    "```\n",
    "Input: Array=[0, 1, 0, 0, 1, 1, 0, 1, 1, 0, 0, 1, 1], k=3\n",
    "Output: 9\n",
    "Explanation: Replace the '0' at index 6, 9, and 10 to have the longest contiguous subarray of 1s having length 9.\n",
    "```"
   ]
  },
  {
   "cell_type": "code",
   "execution_count": 9,
   "metadata": {},
   "outputs": [
    {
     "name": "stdout",
     "output_type": "stream",
     "text": [
      "5\n"
     ]
    },
    {
     "data": {
      "text/plain": [
       "5"
      ]
     },
     "execution_count": 9,
     "metadata": {},
     "output_type": "execute_result"
    }
   ],
   "source": [
    "def longest_subarray_ones_replacement(arr, K):\n",
    "    longest_sub = 0\n",
    "    zero_freq = 0\n",
    "    start = 0\n",
    "\n",
    "    for i in range(len(arr)):\n",
    "        if arr[i] == 0:\n",
    "            zero_freq += 1\n",
    "        while zero_freq > K:\n",
    "            if arr[start] == 0:\n",
    "                zero_freq -= 1\n",
    "            start += 1\n",
    "        longest_sub = max(longest_sub, i+1-start)\n",
    "    \n",
    "    print(longest_sub)\n",
    "    return longest_sub\n",
    "\n",
    "longest_subarray_ones_replacement([1, 0, 0, 1, 0, 1, 0, 1 ], 2)\n",
    "\n"
   ]
  },
  {
   "cell_type": "markdown",
   "metadata": {},
   "source": [
    "### Permutation in a String (hard)\n",
    "Given a string and a pattern, find out if the string contains any permutation of the pattern.\n",
    "\n",
    "Permutation is defined as the re-arranging of the characters of the string. For example, “abc” has the following six permutations:\n",
    "\n",
    "abc\n",
    "acb\n",
    "bac\n",
    "bca\n",
    "cab\n",
    "cba\n",
    "If a string has ‘n’ distinct characters it will have n!n! permutations.\n",
    "\n",
    "Example 1:\n",
    "```\n",
    "Input: String=\"oidbcaf\", Pattern=\"abc\"\n",
    "Output: true\n",
    "Explanation: The string contains \"bca\" which is a permutation of the given pattern.\n",
    "```\n",
    "Example 2:\n",
    "```\n",
    "Input: String=\"odicf\", Pattern=\"dc\"\n",
    "Output: false\n",
    "Explanation: No permutation of the pattern is present in the given string as a substring.\n",
    "```\n",
    "Example 3:\n",
    "```\n",
    "Input: String=\"bcdxabcdy\", Pattern=\"bcdyabcdx\"\n",
    "Output: true\n",
    "Explanation: Both the string and the pattern are a permutation of each other.\n",
    "```\n",
    "Example 4:\n",
    "```\n",
    "Input: String=\"aaacb\", Pattern=\"abc\"\n",
    "Output: true\n",
    "Explanation: The string contains \"acb\" which is a permutation of the given pattern.\n",
    "```"
   ]
  },
  {
   "cell_type": "code",
   "execution_count": 20,
   "metadata": {},
   "outputs": [
    {
     "name": "stdout",
     "output_type": "stream",
     "text": [
      "True\n",
      "True\n",
      "False\n",
      "True\n"
     ]
    }
   ],
   "source": [
    "def if_string_has_permutation_of_pattern(str, pattern):\n",
    "    pattern_map = {}\n",
    "    matched_count = 0\n",
    "    start = 0\n",
    "\n",
    "    # Generate pattern's character frequency\n",
    "    for char in pattern:\n",
    "        if char not in pattern_map:\n",
    "            pattern_map[char] = 0\n",
    "        pattern_map[char] += 1\n",
    "\n",
    "    for i in range(len(str)):\n",
    "        char = str[i]\n",
    "        if char in pattern_map:\n",
    "            pattern_map[char] -= 1\n",
    "            matched_count += 1\n",
    "            while pattern_map[char] < 0:\n",
    "                pattern_map[str[start]] += 1\n",
    "                start += 1\n",
    "                matched_count -= 1\n",
    "\n",
    "            if matched_count == len(pattern):\n",
    "                return True\n",
    "        else:\n",
    "            matched_count = 0\n",
    "    return False\n",
    "\n",
    "print(if_string_has_permutation_of_pattern(\"aaacb\", \"abc\")) # True\n",
    "print(if_string_has_permutation_of_pattern(\"bcdxabcdy\", \"bcdyabcdx\")) # True\n",
    "print(if_string_has_permutation_of_pattern(\"odicf\", \"dc\")) # False\n",
    "print(if_string_has_permutation_of_pattern(\"oidbcaf\", \"abc\")) # True"
   ]
  },
  {
   "cell_type": "markdown",
   "metadata": {},
   "source": [
    "### String Anagrams (hard) \n",
    "Given a string and a pattern, find all anagrams of the pattern in the given string.\n",
    "\n",
    "Anagram is actually a Permutation of a string. For example, “abc” has the following six anagrams:\n",
    "\n",
    "abc\n",
    "acb\n",
    "bac\n",
    "bca\n",
    "cab\n",
    "cba\n",
    "Write a function to return a list of starting indices of the anagrams of the pattern in the given string.\n",
    "\n",
    "Example 1:\n",
    "```\n",
    "Input: String=\"ppqp\", Pattern=\"pq\"\n",
    "Output: [1, 2]\n",
    "Explanation: The two anagrams of the pattern in the given string are \"pq\" and \"qp\".\n",
    "```\n",
    "Example 2:\n",
    "```\n",
    "Input: String=\"abbcabc\", Pattern=\"abc\"\n",
    "Output: [2, 3, 4]\n",
    "Explanation: The three anagrams of the pattern in the given string are \"bca\", \"cab\", and \"abc\".\n",
    "```"
   ]
  },
  {
   "cell_type": "code",
   "execution_count": 27,
   "metadata": {},
   "outputs": [
    {
     "name": "stdout",
     "output_type": "stream",
     "text": [
      "[1, 2]\n",
      "[2, 3, 4]\n"
     ]
    }
   ],
   "source": [
    "def find_indices_of_anagrams_of_pattern(str, pattern):\n",
    "    pattern_map = {}\n",
    "    matched_count = 0\n",
    "    start = 0\n",
    "    starting_indeces = []\n",
    "\n",
    "    # Generate pattern's character frequency\n",
    "    for char in pattern:\n",
    "        if char not in pattern_map:\n",
    "            pattern_map[char] = 0\n",
    "        pattern_map[char] += 1\n",
    "\n",
    "    for i in range(len(str)):\n",
    "        char = str[i]\n",
    "        if char in pattern_map:\n",
    "            pattern_map[char] -= 1\n",
    "            matched_count += 1\n",
    "            while pattern_map[char] < 0:\n",
    "                pattern_map[str[start]] += 1\n",
    "                start += 1\n",
    "                matched_count -= 1\n",
    "\n",
    "            if matched_count == len(pattern):\n",
    "                starting_indeces.append(start)\n",
    "        else:\n",
    "            matched_count = 0\n",
    "    return starting_indeces\n",
    "\n",
    "print(find_indices_of_anagrams_of_pattern(\"ppqp\", \"pq\")) # 2\n",
    "print(find_indices_of_anagrams_of_pattern(\"abbcabc\", \"abc\")) # 3"
   ]
  },
  {
   "cell_type": "markdown",
   "metadata": {},
   "source": [
    "### Smallest Window containing Substring (hard) #\n",
    "Given a string and a pattern, find the smallest substring in the given string which has all the characters of the given pattern.\n",
    "\n",
    "Example 1:\n",
    "```\n",
    "Input: String=\"aabdec\", Pattern=\"abc\"\n",
    "Output: \"abdec\"\n",
    "Explanation: The smallest substring having all characters of the pattern is \"abdec\"\n",
    "```\n",
    "Example 2:\n",
    "```\n",
    "Input: String=\"abdabca\", Pattern=\"abc\"\n",
    "Output: \"abc\"\n",
    "Explanation: The smallest substring having all characters of the pattern is \"abc\".\n",
    "```\n",
    "Example 3:\n",
    "```\n",
    "Input: String=\"adcad\", Pattern=\"abc\"\n",
    "Output: \"\"\n",
    "Explanation: No substring in the given string has all characters of the pattern.\n",
    "```"
   ]
  },
  {
   "cell_type": "code",
   "execution_count": 104,
   "metadata": {},
   "outputs": [
    {
     "name": "stdout",
     "output_type": "stream",
     "text": [
      "abdec\n",
      "bca\n",
      "\n"
     ]
    }
   ],
   "source": [
    "def smallest_substring_with_pattern(strn, pattern):\n",
    "    pattern_map = {}\n",
    "    smallest_window_len = len(strn)\n",
    "    smallest_window_start = 0\n",
    "    start = 0\n",
    "    matched = 0\n",
    "\n",
    "    for char in pattern:\n",
    "        if char not in pattern_map:\n",
    "            pattern_map[char] = 0\n",
    "        pattern_map[char] += 1\n",
    "\n",
    "    for i, char in enumerate(strn):\n",
    "        if char in pattern_map:\n",
    "            pattern_map[char] -= 1\n",
    "            matched += 1\n",
    "            while pattern_map[char] < 0:\n",
    "                first_char = strn[start]\n",
    "                if first_char in pattern_map:\n",
    "                    pattern_map[first_char] += 1\n",
    "                    matched -= 1\n",
    "                start += 1\n",
    "\n",
    "            if matched == len(pattern_map):\n",
    "                curr_window_len = i+1-start\n",
    "                if smallest_window_len > curr_window_len:\n",
    "                    smallest_window_start = start\n",
    "                    smallest_window_len = curr_window_len\n",
    "                \n",
    "    return strn[smallest_window_start: smallest_window_start+smallest_window_len]\n",
    "    \n",
    "print(smallest_window_containing_substring(\"aabdec\", \"abc\"))\n",
    "print(smallest_substring_with_pattern(\"abdabca\", \"abc\"))\n",
    "print(smallest_window_containing_substring(\"adcad\", \"abc\"))"
   ]
  },
  {
   "cell_type": "markdown",
   "metadata": {},
   "source": [
    "### Words Concatenation (hard) #\n",
    "Given a string and a list of words, find all the starting indices of substrings in the given string that are a concatenation of all the given words exactly once without any overlapping of words. It is given that all words are of the same length.\n",
    "\n",
    "Example 1:\n",
    "```\n",
    "Input: String=\"catfoxcat\", Words=[\"cat\", \"fox\"]\n",
    "Output: [0, 3]\n",
    "Explanation: The two substring containing both the words are \"catfox\" & \"foxcat\".\n",
    "```\n",
    "Example 2:\n",
    "```\n",
    "Input: String=\"catcatfoxfox\", Words=[\"cat\", \"fox\"]\n",
    "Output: [3]\n",
    "Explanation: The only substring containing both the words is \"catfox\".\n",
    "```"
   ]
  },
  {
   "cell_type": "code",
   "execution_count": 51,
   "metadata": {},
   "outputs": [
    {
     "name": "stdout",
     "output_type": "stream",
     "text": [
      "None\n",
      "None\n"
     ]
    }
   ],
   "source": [
    "def indices_of_concatenated_string(str, words):\n",
    "    pass\n",
    "print(indices_of_concatenated_string(\"catcatfoxfox\", [\"cat\", \"fox\"]))\n",
    "print(indices_of_concatenated_string(\"catfoxcat\", [\"cat\", \"fox\"]))"
   ]
  },
  {
   "cell_type": "markdown",
   "metadata": {},
   "source": [
    "## Two pointer problems\n",
    "### Pair with Target Sum (easy)\n",
    "Given an array of sorted numbers and a target sum, find a pair in the array whose sum is equal to the given target.\n",
    "\n",
    "Write a function to return the indices of the two numbers (i.e. the pair) such that they add up to the given target.\n",
    "\n",
    "Example 1:\n",
    "```\n",
    "Input: [1, 2, 3, 4, 6], target=6\n",
    "Output: [1, 3]\n",
    "Explanation: The numbers at index 1 and 3 add up to 6: 2+4=6\n",
    "```\n",
    "Example 2:\n",
    "```\n",
    "Input: [2, 5, 9, 11], target=11\n",
    "Output: [0, 2]\n",
    "Explanation: The numbers at index 0 and 2 add up to 11: 2+9=11\n",
    "```"
   ]
  },
  {
   "cell_type": "code",
   "execution_count": 106,
   "metadata": {},
   "outputs": [
    {
     "name": "stdout",
     "output_type": "stream",
     "text": [
      "[1, 3]\n",
      "[0, 2]\n"
     ]
    }
   ],
   "source": [
    "def pair_target_sum(nums, target):\n",
    "    delta_num_map = {}\n",
    "\n",
    "    for i in range(len(nums)):\n",
    "        n = nums[i] \n",
    "        if n in delta_num_map:\n",
    "            return [delta_num_map[n], i]\n",
    "        delta_num_map[target-n] = i\n",
    "    return None\n",
    "\n",
    "print(pair_target_sum([1, 2, 3, 4, 6], 6))\n",
    "print(pair_target_sum([2, 5, 9, 11], 11))"
   ]
  },
  {
   "cell_type": "markdown",
   "metadata": {},
   "source": [
    "### OR"
   ]
  },
  {
   "cell_type": "code",
   "execution_count": 125,
   "metadata": {},
   "outputs": [
    {
     "name": "stdout",
     "output_type": "stream",
     "text": [
      "[1, 3]\n",
      "[0, 2]\n"
     ]
    }
   ],
   "source": [
    "def pair_target_sum_2(nums, target):\n",
    "    \"\"\"For sorted array as in this specific problem\"\"\"\n",
    "    if len(nums) < 2:\n",
    "        raise Exception(\"Not enough numbers to get a pair\")\n",
    "    \n",
    "    left = 0\n",
    "    right = len(nums)-1\n",
    "    while left < right:\n",
    "        sums = nums[left] + nums[right]\n",
    "        if sums == target:\n",
    "            return [left, right]\n",
    "        elif sums > target:\n",
    "            right -= 1\n",
    "        else:\n",
    "            left += 1\n",
    "\n",
    "print(pair_target_sum_2([1, 2, 3, 4, 6], 6))\n",
    "print(pair_target_sum_2([2, 5, 9, 11], 11))"
   ]
  },
  {
   "cell_type": "markdown",
   "metadata": {},
   "source": []
  },
  {
   "cell_type": "code",
   "execution_count": null,
   "metadata": {},
   "outputs": [],
   "source": []
  }
 ],
 "metadata": {
  "interpreter": {
   "hash": "a54c61914da8f9dd7e228baff74b58d78184195154e4150426d68f4e622acaf6"
  },
  "kernelspec": {
   "display_name": "Python 3.8.5 64-bit ('base': conda)",
   "name": "python3"
  },
  "language_info": {
   "codemirror_mode": {
    "name": "ipython",
    "version": 3
   },
   "file_extension": ".py",
   "mimetype": "text/x-python",
   "name": "python",
   "nbconvert_exporter": "python",
   "pygments_lexer": "ipython3",
   "version": "3.8.5"
  },
  "orig_nbformat": 4
 },
 "nbformat": 4,
 "nbformat_minor": 2
}
