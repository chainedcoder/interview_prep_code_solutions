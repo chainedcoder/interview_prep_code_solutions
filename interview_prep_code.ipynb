{
 "cells": [
  {
   "cell_type": "code",
   "execution_count": 3,
   "metadata": {},
   "outputs": [],
   "source": [
    "def get_permutation(nums):\n",
    "    if len(nums) <= 1:\n",
    "        return set(nums)\n",
    "\n",
    "    nums_except_last = nums[:-1]\n",
    "    last_num = nums[-1]\n",
    "    partial_perms = get_permutation(nums_except_last)\n",
    "\n",
    "    permutations = set()\n",
    "    for each_perm in partial_perms:\n",
    "        for i in range(len(nums)):\n",
    "            cur_permutation = (each_perm[:i] + last_num + each_perm[i:])\n",
    "            permutations.add(cur_permutation)\n",
    "    return permutations\n"
   ]
  },
  {
   "cell_type": "code",
   "execution_count": 4,
   "metadata": {},
   "outputs": [
    {
     "name": "stdout",
     "output_type": "stream",
     "text": [
      "{'211', '112', '121'}\n"
     ]
    }
   ],
   "source": [
    "answer = get_permutation(\"112\")\n",
    "print(answer)\n"
   ]
  },
  {
   "cell_type": "markdown",
   "metadata": {},
   "source": [
    "## Average of subarray of size K\n",
    "\n",
    "Given an array, find the average of all contiguous subarrays of size ‘K’ in it.\n"
   ]
  },
  {
   "cell_type": "code",
   "execution_count": 5,
   "metadata": {},
   "outputs": [
    {
     "name": "stdout",
     "output_type": "stream",
     "text": [
      "[2.2, 2.8, 2.4, 3.6, 2.8]\n"
     ]
    }
   ],
   "source": [
    "def ave_contiguous_subarray_k(arr, K):\n",
    "    ave_arr = []\n",
    "    cur_sum = 0\n",
    "    for i in range(len(arr)):\n",
    "        cur_sum += arr[i]\n",
    "        kth_i = K-1\n",
    "        if i >= kth_i:\n",
    "            ave_arr.append(cur_sum/K)\n",
    "            cur_sum -= arr[i-kth_i]\n",
    "    return ave_arr\n",
    "\n",
    "\n",
    "print(ave_contiguous_subarray_k([1, 3, 2, 6, -1, 4, 1, 8, 2], 5))\n"
   ]
  },
  {
   "cell_type": "markdown",
   "metadata": {},
   "source": [
    "## Maximum Sum Subarray of Size K\n",
    "\n",
    "Given an array of positive numbers and a positive number ‘k’, find the maximum sum of any contiguous subarray of size ‘k’.\n"
   ]
  },
  {
   "cell_type": "code",
   "execution_count": 8,
   "metadata": {},
   "outputs": [
    {
     "name": "stdout",
     "output_type": "stream",
     "text": [
      "18\n"
     ]
    }
   ],
   "source": [
    "def max_sum_subarray_k(arr, K):\n",
    "    max_sum = -float(\"inf\")\n",
    "    cur_sum = 0\n",
    "    for i in range(len(arr)):\n",
    "        cur_sum += arr[i]\n",
    "        kth_i = K-1\n",
    "        if i >= kth_i:\n",
    "            max_sum = max(max_sum, cur_sum)\n",
    "            cur_sum -= arr[i-kth_i]\n",
    "    return max_sum\n",
    "\n",
    "\n",
    "print(max_sum_subarray_k([1, 3, 2, 6, -1, 4, 1, 8, 2], 5))\n"
   ]
  },
  {
   "cell_type": "markdown",
   "metadata": {},
   "source": [
    "## Fruits into Baskets\n",
    "\n",
    "Given an array of characters where each character represents a fruit tree, you are given two baskets and your goal is to put maximum number of fruits in each basket. The only restriction is that each basket can have only one type of fruit.\n",
    "\n",
    "You can start with any tree, but once you have started you can’t skip a tree. You will pick one fruit from each tree until you cannot, i.e., you will stop when you have to pick from a third fruit type.\n",
    "\n",
    "Write a function to return the maximum number of fruits in both the baskets.\n",
    "\n",
    "Example 1:\n",
    "```\n",
    "Input: Fruit=['A', 'B', 'C', 'A', 'C']`\n",
    "Output: 3\n",
    "Explanation: We can put 2 'C' in one basket and one 'A' in the other from the subarray `['C', 'A', 'C']`\n",
    "```\n",
    "Example 2:\n",
    "```\n",
    "Input: Fruit=['A', 'B', 'C', 'B', 'B', 'C']\n",
    "Output: 5\n",
    "Explanation: We can put 3 'B' in one basket and two 'C' in the other basket.\n",
    "This can be done if we start with the second letter: ['B', 'C', 'B', 'B', 'C']\n",
    "```\n"
   ]
  },
  {
   "cell_type": "code",
   "execution_count": 38,
   "metadata": {},
   "outputs": [
    {
     "name": "stdout",
     "output_type": "stream",
     "text": [
      "5\n"
     ]
    }
   ],
   "source": [
    "def fruits_in_basket(fruits):\n",
    "    basket = {}\n",
    "    start = 0\n",
    "    max_fruits = 0\n",
    "    \n",
    "    for i in range(len(fruits)):\n",
    "        fruit = fruits[i]\n",
    "        if fruit not in basket:\n",
    "            basket[fruit] = 0\n",
    "        basket[fruit] += 1\n",
    "    \n",
    "        while len(basket) > 2:\n",
    "            first_fruit = fruits[start]\n",
    "            basket[first_fruit] -= 1\n",
    "            if basket[first_fruit] == 0:\n",
    "                basket.pop(first_fruit)\n",
    "            start += 1\n",
    "        max_fruits = max(i+1-start,max_fruits)\n",
    "    return max_fruits\n",
    "\n",
    "print(fruits_in_basket(['A', 'B', 'C', 'B', 'B', 'C']))\n"
   ]
  },
  {
   "cell_type": "markdown",
   "metadata": {},
   "source": [
    "## No-repeat Substring (hard)\n",
    "Given a string, find the length of the longest substring which has no repeating characters."
   ]
  },
  {
   "cell_type": "code",
   "execution_count": 45,
   "metadata": {},
   "outputs": [
    {
     "name": "stdout",
     "output_type": "stream",
     "text": [
      "3\n"
     ]
    }
   ],
   "source": [
    "def longest_no_repeat_substring(str):\n",
    "    max_len = 0\n",
    "    char_freq = {}\n",
    "    start = 0\n",
    "\n",
    "    for i in range(len(str)):\n",
    "        char = str[i]\n",
    "        if char not in char_freq:\n",
    "            char_freq[char] = 0\n",
    "        char_freq[char] += 1\n",
    "\n",
    "        while char_freq[char] > 1:\n",
    "            first_char = str[start]\n",
    "            char_freq[first_char] -= 1\n",
    "            if char_freq[char] == 0:\n",
    "                char_freq.pop(char)\n",
    "            start += 1\n",
    "        max_len = max(max_len, i+1-start)\n",
    "    return max_len\n",
    "\n",
    "print(longest_no_repeat_substring(\"abebce\"))"
   ]
  },
  {
   "cell_type": "markdown",
   "metadata": {},
   "source": [
    "## Longest Substring with K Distinct Characters (medium)\n",
    "Given a string, find the length of the longest substring in it with no more than K distinct characters.\n",
    "\n",
    "Example 1:\n",
    "\n",
    "```\n",
    "Input: String=\"araaci\", K=2\n",
    "Output: 4\n",
    "Explanation: The longest substring with no more than '2' distinct characters is \"araa\".\n",
    "```\n",
    "Example 2:\n",
    "```\n",
    "Input: String=\"araaci\", K=1\n",
    "Output: 2\n",
    "Explanation: The longest substring with no more than '1' distinct characters is \"aa\".\n",
    "```\n",
    "Example 3:\n",
    "```\n",
    "Input: String=\"cbbebi\", K=3\n",
    "Output: 5\n",
    "Explanation: The longest substrings with no more than '3' distinct characters are \"cbbeb\" & \"bbebi\".\n",
    "```"
   ]
  },
  {
   "cell_type": "code",
   "execution_count": 3,
   "metadata": {},
   "outputs": [
    {
     "name": "stdout",
     "output_type": "stream",
     "text": [
      "4\n",
      "2\n",
      "5\n"
     ]
    }
   ],
   "source": [
    "def find_longest_Substring_k_distinct(str, k):\n",
    "    # Walk through string keep count of char in dictionary\n",
    "    # if char freq exceeds k move the start of string right\n",
    "    # keep and update max length\n",
    "    max_len = 0\n",
    "    char_freq = {}\n",
    "    start = 0\n",
    "    \n",
    "    for i in range(len(str)):\n",
    "        char = str[i]\n",
    "        if char not in char_freq:\n",
    "            char_freq[char] = 0\n",
    "        char_freq[char] += 1\n",
    "\n",
    "        while len(char_freq) > k:\n",
    "            first_char = str[start]\n",
    "            char_freq[first_char] -= 1\n",
    "            if char_freq[first_char] == 0:\n",
    "                char_freq.pop(first_char)\n",
    "            start += 1\n",
    "        max_len = max(max_len, i+1-start)\n",
    "    return max_len\n",
    "\n",
    "print(find_longest_Substring_k_distinct(\"araaci\", 2))\n",
    "print(find_longest_Substring_k_distinct(\"araaci\", 1))\n",
    "print(find_longest_Substring_k_distinct(\"cbbebi\", 3))\n",
    "\n"
   ]
  },
  {
   "cell_type": "markdown",
   "metadata": {},
   "source": [
    "## Longest Substring with Same Letters after Replacement (hard)\n",
    "Given a string with lowercase letters only, if you are allowed to replace no more than ‘k’ letters with any letter, find the length of the longest substring having the same letters after replacement.\n",
    "\n",
    "Example 1:\n",
    "```\n",
    "Input: String=\"aabccbb\", k=2\n",
    "Output: 5\n",
    "Explanation: Replace the two 'c' with 'b' to have a longest repeating substring \"bbbbb\".\n",
    "```\n",
    "Example 2:\n",
    "```\n",
    "Input: String=\"abbcb\", k=1\n",
    "Output: 4\n",
    "Explanation: Replace the 'c' with 'b' to have a longest repeating substring \"bbbb\".\n",
    "```\n",
    "Example 3:\n",
    "```\n",
    "Input: String=\"abccde\", k=1\n",
    "Output: 3\n",
    "Explanation: Replace the 'b' or 'd' with 'c' to have the longest repeating substring \"ccc\".\n",
    "```\n"
   ]
  },
  {
   "cell_type": "code",
   "execution_count": 6,
   "metadata": {},
   "outputs": [
    {
     "name": "stdout",
     "output_type": "stream",
     "text": [
      "5\n",
      "4\n",
      "3\n"
     ]
    }
   ],
   "source": [
    "def longest_substring_k_replacement(str, k):\n",
    "    char_freq = {}\n",
    "    longest_sub = 0\n",
    "    start = 0\n",
    "    max_repeat = 0\n",
    "\n",
    "    for i in range(len(str)):\n",
    "        char = str[i]\n",
    "        if char not in char_freq:\n",
    "            char_freq[char] = 0\n",
    "        char_freq[char] += 1\n",
    "        max_repeat = max(max_repeat, char_freq[char])\n",
    "\n",
    "        while ((i+1-start)-max_repeat) > k:\n",
    "            first_char = str[start]\n",
    "            char_freq[first_char] -= 1\n",
    "            start += 1\n",
    "        longest_sub = max(longest_sub, i+1-start)\n",
    "    return longest_sub\n",
    "\n",
    "print(longest_substring_k_replacement(\"aabccbb\", 2))\n",
    "print(longest_substring_k_replacement(\"abbcb\", 1))\n",
    "print(longest_substring_k_replacement(\"abccde\", 1))\n",
    "\n"
   ]
  },
  {
   "cell_type": "code",
   "execution_count": null,
   "metadata": {},
   "outputs": [],
   "source": []
  }
 ],
 "metadata": {
  "interpreter": {
   "hash": "a54c61914da8f9dd7e228baff74b58d78184195154e4150426d68f4e622acaf6"
  },
  "kernelspec": {
   "display_name": "Python 3.8.5 64-bit ('base': conda)",
   "name": "python3"
  },
  "language_info": {
   "codemirror_mode": {
    "name": "ipython",
    "version": 3
   },
   "file_extension": ".py",
   "mimetype": "text/x-python",
   "name": "python",
   "nbconvert_exporter": "python",
   "pygments_lexer": "ipython3",
   "version": "3.8.5"
  },
  "orig_nbformat": 4
 },
 "nbformat": 4,
 "nbformat_minor": 2
}
